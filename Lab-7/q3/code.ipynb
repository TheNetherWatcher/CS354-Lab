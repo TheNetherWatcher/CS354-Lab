{
  "cells": [
    {
      "cell_type": "markdown",
      "metadata": {},
      "source": [
        "# Iris Data"
      ]
    },
    {
      "cell_type": "code",
      "execution_count": 1,
      "metadata": {
        "id": "b5H4ZXqsGQll"
      },
      "outputs": [],
      "source": [
        "from sklearn.datasets import load_iris\n",
        "import pandas as pd\n",
        "\n",
        "data = load_iris()\n",
        "iris_df = pd.DataFrame(data.data, columns=data.feature_names)\n",
        "iris_df['target'] = data.target\n"
      ]
    },
    {
      "cell_type": "code",
      "execution_count": 2,
      "metadata": {
        "colab": {
          "base_uri": "https://localhost:8080/",
          "height": 206
        },
        "id": "D1A0aeFXGYAZ",
        "outputId": "9a2c1570-8372-42f0-962a-bc1c0b16577f"
      },
      "outputs": [
        {
          "data": {
            "text/html": [
              "<div>\n",
              "<style scoped>\n",
              "    .dataframe tbody tr th:only-of-type {\n",
              "        vertical-align: middle;\n",
              "    }\n",
              "\n",
              "    .dataframe tbody tr th {\n",
              "        vertical-align: top;\n",
              "    }\n",
              "\n",
              "    .dataframe thead th {\n",
              "        text-align: right;\n",
              "    }\n",
              "</style>\n",
              "<table border=\"1\" class=\"dataframe\">\n",
              "  <thead>\n",
              "    <tr style=\"text-align: right;\">\n",
              "      <th></th>\n",
              "      <th>sepal length (cm)</th>\n",
              "      <th>sepal width (cm)</th>\n",
              "      <th>petal length (cm)</th>\n",
              "      <th>petal width (cm)</th>\n",
              "      <th>target</th>\n",
              "    </tr>\n",
              "  </thead>\n",
              "  <tbody>\n",
              "    <tr>\n",
              "      <th>0</th>\n",
              "      <td>5.1</td>\n",
              "      <td>3.5</td>\n",
              "      <td>1.4</td>\n",
              "      <td>0.2</td>\n",
              "      <td>0</td>\n",
              "    </tr>\n",
              "    <tr>\n",
              "      <th>1</th>\n",
              "      <td>4.9</td>\n",
              "      <td>3.0</td>\n",
              "      <td>1.4</td>\n",
              "      <td>0.2</td>\n",
              "      <td>0</td>\n",
              "    </tr>\n",
              "    <tr>\n",
              "      <th>2</th>\n",
              "      <td>4.7</td>\n",
              "      <td>3.2</td>\n",
              "      <td>1.3</td>\n",
              "      <td>0.2</td>\n",
              "      <td>0</td>\n",
              "    </tr>\n",
              "    <tr>\n",
              "      <th>3</th>\n",
              "      <td>4.6</td>\n",
              "      <td>3.1</td>\n",
              "      <td>1.5</td>\n",
              "      <td>0.2</td>\n",
              "      <td>0</td>\n",
              "    </tr>\n",
              "    <tr>\n",
              "      <th>4</th>\n",
              "      <td>5.0</td>\n",
              "      <td>3.6</td>\n",
              "      <td>1.4</td>\n",
              "      <td>0.2</td>\n",
              "      <td>0</td>\n",
              "    </tr>\n",
              "  </tbody>\n",
              "</table>\n",
              "</div>"
            ],
            "text/plain": [
              "   sepal length (cm)  sepal width (cm)  petal length (cm)  petal width (cm)  \\\n",
              "0                5.1               3.5                1.4               0.2   \n",
              "1                4.9               3.0                1.4               0.2   \n",
              "2                4.7               3.2                1.3               0.2   \n",
              "3                4.6               3.1                1.5               0.2   \n",
              "4                5.0               3.6                1.4               0.2   \n",
              "\n",
              "   target  \n",
              "0       0  \n",
              "1       0  \n",
              "2       0  \n",
              "3       0  \n",
              "4       0  "
            ]
          },
          "execution_count": 2,
          "metadata": {},
          "output_type": "execute_result"
        }
      ],
      "source": [
        "iris_df.head()\n"
      ]
    },
    {
      "cell_type": "code",
      "execution_count": 3,
      "metadata": {
        "colab": {
          "base_uri": "https://localhost:8080/",
          "height": 206
        },
        "id": "dS1KsyQMHRea",
        "outputId": "1172feea-9211-41ce-8d5e-db94951c1155"
      },
      "outputs": [
        {
          "data": {
            "text/html": [
              "<div>\n",
              "<style scoped>\n",
              "    .dataframe tbody tr th:only-of-type {\n",
              "        vertical-align: middle;\n",
              "    }\n",
              "\n",
              "    .dataframe tbody tr th {\n",
              "        vertical-align: top;\n",
              "    }\n",
              "\n",
              "    .dataframe thead th {\n",
              "        text-align: right;\n",
              "    }\n",
              "</style>\n",
              "<table border=\"1\" class=\"dataframe\">\n",
              "  <thead>\n",
              "    <tr style=\"text-align: right;\">\n",
              "      <th></th>\n",
              "      <th>sepal length (cm)</th>\n",
              "      <th>sepal width (cm)</th>\n",
              "      <th>petal length (cm)</th>\n",
              "      <th>petal width (cm)</th>\n",
              "    </tr>\n",
              "  </thead>\n",
              "  <tbody>\n",
              "    <tr>\n",
              "      <th>0</th>\n",
              "      <td>5.1</td>\n",
              "      <td>3.5</td>\n",
              "      <td>1.4</td>\n",
              "      <td>0.2</td>\n",
              "    </tr>\n",
              "    <tr>\n",
              "      <th>1</th>\n",
              "      <td>4.9</td>\n",
              "      <td>3.0</td>\n",
              "      <td>1.4</td>\n",
              "      <td>0.2</td>\n",
              "    </tr>\n",
              "    <tr>\n",
              "      <th>2</th>\n",
              "      <td>4.7</td>\n",
              "      <td>3.2</td>\n",
              "      <td>1.3</td>\n",
              "      <td>0.2</td>\n",
              "    </tr>\n",
              "    <tr>\n",
              "      <th>3</th>\n",
              "      <td>4.6</td>\n",
              "      <td>3.1</td>\n",
              "      <td>1.5</td>\n",
              "      <td>0.2</td>\n",
              "    </tr>\n",
              "    <tr>\n",
              "      <th>4</th>\n",
              "      <td>5.0</td>\n",
              "      <td>3.6</td>\n",
              "      <td>1.4</td>\n",
              "      <td>0.2</td>\n",
              "    </tr>\n",
              "  </tbody>\n",
              "</table>\n",
              "</div>"
            ],
            "text/plain": [
              "   sepal length (cm)  sepal width (cm)  petal length (cm)  petal width (cm)\n",
              "0                5.1               3.5                1.4               0.2\n",
              "1                4.9               3.0                1.4               0.2\n",
              "2                4.7               3.2                1.3               0.2\n",
              "3                4.6               3.1                1.5               0.2\n",
              "4                5.0               3.6                1.4               0.2"
            ]
          },
          "execution_count": 3,
          "metadata": {},
          "output_type": "execute_result"
        }
      ],
      "source": [
        "iris = iris_df.iloc[: , :-1]\n",
        "iris.head()\n"
      ]
    },
    {
      "cell_type": "code",
      "execution_count": 4,
      "metadata": {
        "id": "9wJB2gSUGe4f"
      },
      "outputs": [],
      "source": [
        "from sklearn.preprocessing import MinMaxScaler\n",
        "from minisom import MiniSom\n",
        "\n",
        "# Normalization\n",
        "scaler = MinMaxScaler()\n",
        "normalized_data = scaler.fit_transform(iris_df.iloc[:, :-1])\n",
        "\n",
        "# SOM initialization\n",
        "som = MiniSom(x=10, y=10, input_len=4, sigma=1.0, learning_rate=0.5)\n",
        "som.random_weights_init(normalized_data)\n",
        "som.train_random(normalized_data, 100)\n"
      ]
    },
    {
      "cell_type": "markdown",
      "metadata": {},
      "source": [
        "Calculating BMU Distance"
      ]
    },
    {
      "cell_type": "code",
      "execution_count": 5,
      "metadata": {
        "id": "Se5T5JAhGijK"
      },
      "outputs": [],
      "source": [
        "import numpy as np\n",
        "\n",
        "def calculate_bmu_distances(som, data):\n",
        "    return [np.linalg.norm(sample - som.get_weights()[som.winner(sample)])\n",
        "            for sample in data]\n",
        "\n",
        "distances = calculate_bmu_distances(som, normalized_data)\n",
        "iris_df['bmu_distance'] = distances\n"
      ]
    },
    {
      "cell_type": "code",
      "execution_count": 6,
      "metadata": {
        "id": "lawgmaNpHkeP"
      },
      "outputs": [],
      "source": [
        "from scipy.stats import zscore\n",
        "\n",
        "iris_df['z_score'] = zscore(distances)\n",
        "anomalies = iris_df[iris_df['z_score'].abs() > 2]\n"
      ]
    },
    {
      "cell_type": "markdown",
      "metadata": {},
      "source": [
        "Anomalies"
      ]
    },
    {
      "cell_type": "code",
      "execution_count": 7,
      "metadata": {
        "colab": {
          "base_uri": "https://localhost:8080/",
          "height": 287
        },
        "id": "aLTJvM9JHqdI",
        "outputId": "4d51b73b-6c2d-4e92-f02e-3a3a6823b3b9"
      },
      "outputs": [
        {
          "name": "stdout",
          "output_type": "stream",
          "text": [
            "4\n"
          ]
        },
        {
          "data": {
            "text/html": [
              "<div>\n",
              "<style scoped>\n",
              "    .dataframe tbody tr th:only-of-type {\n",
              "        vertical-align: middle;\n",
              "    }\n",
              "\n",
              "    .dataframe tbody tr th {\n",
              "        vertical-align: top;\n",
              "    }\n",
              "\n",
              "    .dataframe thead th {\n",
              "        text-align: right;\n",
              "    }\n",
              "</style>\n",
              "<table border=\"1\" class=\"dataframe\">\n",
              "  <thead>\n",
              "    <tr style=\"text-align: right;\">\n",
              "      <th></th>\n",
              "      <th>sepal length (cm)</th>\n",
              "      <th>sepal width (cm)</th>\n",
              "      <th>petal length (cm)</th>\n",
              "      <th>petal width (cm)</th>\n",
              "      <th>target</th>\n",
              "      <th>bmu_distance</th>\n",
              "      <th>z_score</th>\n",
              "    </tr>\n",
              "  </thead>\n",
              "  <tbody>\n",
              "    <tr>\n",
              "      <th>100</th>\n",
              "      <td>6.3</td>\n",
              "      <td>3.3</td>\n",
              "      <td>6.0</td>\n",
              "      <td>2.5</td>\n",
              "      <td>2</td>\n",
              "      <td>0.268433</td>\n",
              "      <td>2.953401</td>\n",
              "    </tr>\n",
              "    <tr>\n",
              "      <th>114</th>\n",
              "      <td>5.8</td>\n",
              "      <td>2.8</td>\n",
              "      <td>5.1</td>\n",
              "      <td>2.4</td>\n",
              "      <td>2</td>\n",
              "      <td>0.287139</td>\n",
              "      <td>3.260047</td>\n",
              "    </tr>\n",
              "    <tr>\n",
              "      <th>117</th>\n",
              "      <td>7.7</td>\n",
              "      <td>3.8</td>\n",
              "      <td>6.7</td>\n",
              "      <td>2.2</td>\n",
              "      <td>2</td>\n",
              "      <td>0.325413</td>\n",
              "      <td>3.887500</td>\n",
              "    </tr>\n",
              "    <tr>\n",
              "      <th>131</th>\n",
              "      <td>7.9</td>\n",
              "      <td>3.8</td>\n",
              "      <td>6.4</td>\n",
              "      <td>2.0</td>\n",
              "      <td>2</td>\n",
              "      <td>0.340708</td>\n",
              "      <td>4.138227</td>\n",
              "    </tr>\n",
              "  </tbody>\n",
              "</table>\n",
              "</div>"
            ],
            "text/plain": [
              "     sepal length (cm)  sepal width (cm)  petal length (cm)  petal width (cm)  \\\n",
              "100                6.3               3.3                6.0               2.5   \n",
              "114                5.8               2.8                5.1               2.4   \n",
              "117                7.7               3.8                6.7               2.2   \n",
              "131                7.9               3.8                6.4               2.0   \n",
              "\n",
              "     target  bmu_distance   z_score  \n",
              "100       2      0.268433  2.953401  \n",
              "114       2      0.287139  3.260047  \n",
              "117       2      0.325413  3.887500  \n",
              "131       2      0.340708  4.138227  "
            ]
          },
          "execution_count": 7,
          "metadata": {},
          "output_type": "execute_result"
        }
      ],
      "source": [
        "print(len(anomalies))\n",
        "anomalies\n"
      ]
    },
    {
      "cell_type": "markdown",
      "metadata": {},
      "source": [
        "# KDD Cup Dataset"
      ]
    },
    {
      "cell_type": "code",
      "execution_count": 8,
      "metadata": {
        "id": "kV1YO9MPIfYm"
      },
      "outputs": [],
      "source": [
        "import pandas as pd\n",
        "import numpy as np\n",
        "\n",
        "COLUMNS = [\n",
        "    'duration', 'protocol_type', 'service', 'flag', 'src_bytes', 'dst_bytes',\n",
        "    'land', 'wrong_fragment', 'urgent', 'hot', 'num_failed_logins',\n",
        "    'logged_in', 'num_compromised', 'root_shell', 'su_attempted', 'num_root',\n",
        "    'num_file_creations', 'num_shells', 'num_access_files', 'num_outbound_cmds',\n",
        "    'is_host_login', 'is_guest_login', 'count', 'srv_count', 'serror_rate',\n",
        "    'srv_serror_rate', 'rerror_rate', 'srv_rerror_rate', 'same_srv_rate',\n",
        "    'diff_srv_rate', 'srv_diff_host_rate', 'dst_host_count', 'dst_host_srv_count',\n",
        "    'dst_host_same_srv_rate', 'dst_host_diff_srv_rate', 'dst_host_same_src_port_rate',\n",
        "    'dst_host_srv_diff_host_rate', 'dst_host_serror_rate', 'dst_host_srv_serror_rate',\n",
        "    'dst_host_rerror_rate', 'dst_host_srv_rerror_rate',\n",
        "]\n",
        "\n",
        "def load_and_preprocess_kdd(file_path):\n",
        "        df = pd.read_csv(\n",
        "            file_path,\n",
        "            header=None,\n",
        "            names=COLUMNS,\n",
        "            dtype={\n",
        "                'protocol_type': 'category',\n",
        "                'service': 'category',\n",
        "                'flag': 'category',\n",
        "            }\n",
        "        )\n",
        "\n",
        "        print(\"Data loaded successfully. First 5 rows:\")\n",
        "        print(df.head())\n",
        "\n",
        "        categorical_cols = df.select_dtypes(include=['category']).columns\n",
        "\n",
        "        print()\n",
        "        print(\"Categorical column analysis:\")\n",
        "        for col in categorical_cols:\n",
        "            unique_vals = df[col].unique()\n",
        "            print(f\"{col}: {len(unique_vals)} unique values\")\n",
        "            print(f\"Sample values: {list(unique_vals[:3])}\")\n",
        "            print()\n",
        "\n",
        "        # Vectorization strategy\n",
        "        for col in categorical_cols:\n",
        "\n",
        "            # One-hot encode\n",
        "            if len(df[col].unique()) < 10:\n",
        "                df = pd.concat([\n",
        "                    df.drop(col, axis=1),\n",
        "                    pd.get_dummies(df[col], prefix=col)\n",
        "                ], axis=1)\n",
        "            else:\n",
        "                # Label encode\n",
        "                df[col] = df[col].astype('category').cat.codes\n",
        "\n",
        "        num_cols = df.select_dtypes(include=np.number).columns\n",
        "        df[num_cols] = df[num_cols].astype('float32')\n",
        "\n",
        "        return df\n"
      ]
    },
    {
      "cell_type": "code",
      "execution_count": 9,
      "metadata": {
        "colab": {
          "base_uri": "https://localhost:8080/"
        },
        "id": "zHYludS-Jy-F",
        "outputId": "cf4b0da9-39c1-46c7-f3fc-beacf3a58141"
      },
      "outputs": [
        {
          "name": "stdout",
          "output_type": "stream",
          "text": [
            "Data loaded successfully. First 5 rows:\n",
            "   duration protocol_type  service flag  src_bytes  dst_bytes  land  \\\n",
            "0         0           udp  private   SF        105        146     0   \n",
            "1         0           udp  private   SF        105        146     0   \n",
            "2         0           udp  private   SF        105        146     0   \n",
            "3         0           udp  private   SF        105        146     0   \n",
            "4         0           udp  private   SF        105        146     0   \n",
            "\n",
            "   wrong_fragment  urgent  hot  ...  dst_host_count  dst_host_srv_count  \\\n",
            "0               0       0    0  ...             255                 254   \n",
            "1               0       0    0  ...             255                 254   \n",
            "2               0       0    0  ...             255                 254   \n",
            "3               0       0    0  ...             255                 254   \n",
            "4               0       0    0  ...             255                 254   \n",
            "\n",
            "   dst_host_same_srv_rate  dst_host_diff_srv_rate  \\\n",
            "0                     1.0                    0.01   \n",
            "1                     1.0                    0.01   \n",
            "2                     1.0                    0.01   \n",
            "3                     1.0                    0.01   \n",
            "4                     1.0                    0.01   \n",
            "\n",
            "   dst_host_same_src_port_rate  dst_host_srv_diff_host_rate  \\\n",
            "0                         0.00                          0.0   \n",
            "1                         0.00                          0.0   \n",
            "2                         0.00                          0.0   \n",
            "3                         0.00                          0.0   \n",
            "4                         0.01                          0.0   \n",
            "\n",
            "   dst_host_serror_rate  dst_host_srv_serror_rate  dst_host_rerror_rate  \\\n",
            "0                   0.0                       0.0                   0.0   \n",
            "1                   0.0                       0.0                   0.0   \n",
            "2                   0.0                       0.0                   0.0   \n",
            "3                   0.0                       0.0                   0.0   \n",
            "4                   0.0                       0.0                   0.0   \n",
            "\n",
            "   dst_host_srv_rerror_rate  \n",
            "0                       0.0  \n",
            "1                       0.0  \n",
            "2                       0.0  \n",
            "3                       0.0  \n",
            "4                       0.0  \n",
            "\n",
            "[5 rows x 41 columns]\n",
            "\n",
            "Categorical column analysis:\n",
            "protocol_type: 3 unique values\n",
            "Sample values: ['udp', 'tcp', 'icmp']\n",
            "\n",
            "service: 65 unique values\n",
            "Sample values: ['private', 'domain_u', 'http']\n",
            "\n",
            "flag: 11 unique values\n",
            "Sample values: ['SF', 'RSTR', 'S1']\n",
            "\n"
          ]
        }
      ],
      "source": [
        "features = load_and_preprocess_kdd('./kddcup.testdata.unlabeled_10_percent')\n"
      ]
    },
    {
      "cell_type": "code",
      "execution_count": 10,
      "metadata": {
        "colab": {
          "base_uri": "https://localhost:8080/"
        },
        "id": "J6nLerIoLG7-",
        "outputId": "dc041d43-c816-412c-a5ea-ddc24dd1473c"
      },
      "outputs": [
        {
          "name": "stdout",
          "output_type": "stream",
          "text": [
            "\n",
            "Processed features shape: (311029, 43)\n",
            "Sample preprocessed data:\n",
            "   duration  service  flag  src_bytes  dst_bytes\n",
            "0       0.0     12.0   5.0      105.0      146.0\n",
            "1       0.0     12.0   5.0      105.0      146.0\n",
            "2       0.0     12.0   5.0      105.0      146.0\n"
          ]
        }
      ],
      "source": [
        "if features is not None:\n",
        "    print()\n",
        "    print(\"Processed features shape:\", features.shape)\n",
        "    print(\"Sample preprocessed data:\")\n",
        "    print(features.iloc[:3, :5])\n"
      ]
    },
    {
      "cell_type": "code",
      "execution_count": 11,
      "metadata": {
        "id": "lkJfp-RPLHr3"
      },
      "outputs": [],
      "source": [
        "from sklearn.preprocessing import MinMaxScaler\n",
        "\n",
        "scaler = MinMaxScaler()\n",
        "som_input = scaler.fit_transform(features)\n"
      ]
    },
    {
      "cell_type": "code",
      "execution_count": 12,
      "metadata": {
        "id": "Q_LAG5BALLnF"
      },
      "outputs": [],
      "source": [
        "# SOM initialization\n",
        "som = MiniSom(x=50, y=50, input_len=som_input.shape[1], sigma=1.0, learning_rate=0.5)\n",
        "som.random_weights_init(som_input)\n",
        "som.train_random(som_input, 1000)\n"
      ]
    },
    {
      "cell_type": "markdown",
      "metadata": {},
      "source": [
        "Calculating BMU Distance"
      ]
    },
    {
      "cell_type": "code",
      "execution_count": 13,
      "metadata": {
        "id": "39yDzqQGVuyf"
      },
      "outputs": [],
      "source": [
        "import numpy as np\n",
        "\n",
        "def calculate_bmu_distances(som, data):\n",
        "    return [np.linalg.norm(sample - som.get_weights()[som.winner(sample)])\n",
        "            for sample in data]\n",
        "\n",
        "distances = calculate_bmu_distances(som, som_input)\n",
        "features['bmu_distance'] = distances\n"
      ]
    },
    {
      "cell_type": "code",
      "execution_count": 14,
      "metadata": {
        "id": "9kq94N7PRXOT"
      },
      "outputs": [],
      "source": [
        "from scipy.stats import zscore\n",
        "\n",
        "features['z_score'] = zscore(distances)\n",
        "anomalies = features[features['z_score'].abs() > 2]\n"
      ]
    },
    {
      "cell_type": "markdown",
      "metadata": {},
      "source": [
        "Anomalies"
      ]
    },
    {
      "cell_type": "code",
      "execution_count": 15,
      "metadata": {
        "colab": {
          "base_uri": "https://localhost:8080/"
        },
        "id": "KPu95qfkRyUV",
        "outputId": "adeba77f-0e65-4513-bb63-610d93010287"
      },
      "outputs": [
        {
          "name": "stdout",
          "output_type": "stream",
          "text": [
            "9311\n",
            "        duration  service  flag  src_bytes  dst_bytes  land  wrong_fragment  \\\n",
            "6            0.0      4.0   5.0       29.0        0.0   0.0             0.0   \n",
            "37           1.0     13.0   5.0     1661.0      330.0   0.0             0.0   \n",
            "38          20.0      8.0   5.0      232.0      765.0   0.0             0.0   \n",
            "44           0.0      9.0   5.0      615.0        0.0   0.0             0.0   \n",
            "71           1.0     13.0   5.0     1018.0      333.0   0.0             0.0   \n",
            "...          ...      ...   ...        ...        ...   ...             ...   \n",
            "310139       0.0      4.0   5.0       44.0       44.0   0.0             0.0   \n",
            "310140       0.0      4.0   5.0       44.0       44.0   0.0             0.0   \n",
            "310141       0.0      4.0   5.0       45.0       45.0   0.0             0.0   \n",
            "310186       0.0      4.0   5.0       45.0      127.0   0.0             0.0   \n",
            "310907       0.0     12.0   5.0      105.0      147.0   0.0             0.0   \n",
            "\n",
            "        urgent  hot  num_failed_logins  ...  dst_host_srv_diff_host_rate  \\\n",
            "6          0.0  0.0                0.0  ...                         0.00   \n",
            "37         0.0  0.0                0.0  ...                         0.02   \n",
            "38         0.0  4.0                0.0  ...                         0.00   \n",
            "44         0.0  0.0                0.0  ...                         0.00   \n",
            "71         0.0  0.0                0.0  ...                         0.02   \n",
            "...        ...  ...                ...  ...                          ...   \n",
            "310139     0.0  0.0                0.0  ...                         0.00   \n",
            "310140     0.0  0.0                0.0  ...                         0.00   \n",
            "310141     0.0  0.0                0.0  ...                         0.00   \n",
            "310186     0.0  0.0                0.0  ...                         0.00   \n",
            "310907     0.0  0.0                0.0  ...                         0.00   \n",
            "\n",
            "        dst_host_serror_rate  dst_host_srv_serror_rate  dst_host_rerror_rate  \\\n",
            "6                       0.00                      0.00                  0.00   \n",
            "37                      0.01                      0.00                  0.02   \n",
            "38                      0.01                      0.02                  0.02   \n",
            "44                      0.00                      0.00                  0.00   \n",
            "71                      0.00                      0.00                  0.00   \n",
            "...                      ...                       ...                   ...   \n",
            "310139                  0.00                      0.00                  0.00   \n",
            "310140                  0.00                      0.00                  0.00   \n",
            "310141                  0.00                      0.00                  0.00   \n",
            "310186                  0.00                      0.00                  0.00   \n",
            "310907                  0.00                      0.00                  0.00   \n",
            "\n",
            "        dst_host_srv_rerror_rate  protocol_type_icmp  protocol_type_tcp  \\\n",
            "6                           0.00               False              False   \n",
            "37                          0.02               False               True   \n",
            "38                          0.00               False               True   \n",
            "44                          0.00               False               True   \n",
            "71                          0.00               False               True   \n",
            "...                          ...                 ...                ...   \n",
            "310139                      0.00               False              False   \n",
            "310140                      0.00               False              False   \n",
            "310141                      0.00               False              False   \n",
            "310186                      0.00               False              False   \n",
            "310907                      0.00               False              False   \n",
            "\n",
            "        protocol_type_udp  bmu_distance   z_score  \n",
            "6                    True      0.638891  4.960172  \n",
            "37                  False      0.308808  2.252282  \n",
            "38                  False      0.947665  7.493240  \n",
            "44                  False      0.738428  5.776733  \n",
            "71                  False      0.554310  4.266297  \n",
            "...                   ...           ...       ...  \n",
            "310139               True      0.303213  2.206389  \n",
            "310140               True      0.309866  2.260966  \n",
            "310141               True      0.288957  2.089436  \n",
            "310186               True      0.289199  2.091420  \n",
            "310907               True      0.502246  3.839181  \n",
            "\n",
            "[9311 rows x 45 columns]\n"
          ]
        }
      ],
      "source": [
        "print(len(anomalies))\n",
        "print(anomalies)\n"
      ]
    },
    {
      "cell_type": "code",
      "execution_count": null,
      "metadata": {},
      "outputs": [],
      "source": []
    }
  ],
  "metadata": {
    "colab": {
      "provenance": []
    },
    "kernelspec": {
      "display_name": "landslide",
      "language": "python",
      "name": "python3"
    },
    "language_info": {
      "codemirror_mode": {
        "name": "ipython",
        "version": 3
      },
      "file_extension": ".py",
      "mimetype": "text/x-python",
      "name": "python",
      "nbconvert_exporter": "python",
      "pygments_lexer": "ipython3",
      "version": "3.10.10"
    }
  },
  "nbformat": 4,
  "nbformat_minor": 0
}
